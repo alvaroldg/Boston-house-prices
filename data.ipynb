import pandas as pd
a = pd.read_csv(C:\Users\aladrondeguevaragarc\Downloads\housing.csv)

a.head()
